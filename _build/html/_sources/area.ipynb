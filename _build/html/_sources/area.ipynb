{
 "cells": [
  {
   "cell_type": "markdown",
   "id": "7d8718c5-192f-487f-9263-6a8d33526597",
   "metadata": {},
   "source": [
    "# Area and Euclid"
   ]
  },
  {
   "cell_type": "markdown",
   "id": "977bffbe-3868-4d85-8cb4-202403ac6a2c",
   "metadata": {},
   "source": [
    "## Basic Shapes\n",
    "\n",
    "- Square\n",
    "- Rectangle\n",
    "- Triangle\n",
    "- Rhombus\n",
    "- Trapezoid"
   ]
  },
  {
   "cell_type": "code",
   "execution_count": null,
   "id": "b01e314b-f4a0-4e6e-adf3-db2dfa5cead3",
   "metadata": {},
   "outputs": [],
   "source": []
  }
 ],
 "metadata": {
  "kernelspec": {
   "display_name": "Python 3 (ipykernel)",
   "language": "python",
   "name": "python3"
  },
  "language_info": {
   "codemirror_mode": {
    "name": "ipython",
    "version": 3
   },
   "file_extension": ".py",
   "mimetype": "text/x-python",
   "name": "python",
   "nbconvert_exporter": "python",
   "pygments_lexer": "ipython3",
   "version": "3.11.4"
  }
 },
 "nbformat": 4,
 "nbformat_minor": 5
}
